{
 "cells": [
  {
   "cell_type": "markdown",
   "metadata": {},
   "source": [
    "# Cambiar el password Administrador local de member servers de un dominio con ayuda de Powershell.  \r\n",
    "\r\n",
    "A pesar de la existencia de soluciones como LAPS aun es comun la necesidad de cambiar el password de Administrador local por lo que me permito presentar esta alternativa para dar respuesta a esta problematica."
   ]
  },
  {
   "cell_type": "markdown",
   "metadata": {},
   "source": [
    "**Índice**   \r\n",
    "1. [Preparando el certificado](#id1)\r\n",
    "2. [Cifrando el password](#id2)\r\n",
    "2. [Cifrando el password](#id3)\r\n"
   ]
  },
  {
   "cell_type": "markdown",
   "metadata": {},
   "source": [
    "## Preparando el certificado<a name=\"id1\"></a>\r\n",
    "Una forma de asegurar la privacidad del password es cifrarlo con ayuda de un certificado.\r\n",
    "\r\n",
    "Para ello nos apoyaremos del modulo **pki** y mediante el cmdlet **New-SelfSignedCertificate**, de esta forma generaremos un certificado autofirmado  a pesar que lo mas recomentable es utilizar la CA que soporta los certificados del propio dominio."
   ]
  },
  {
   "cell_type": "code",
   "execution_count": 5,
   "metadata": {},
   "outputs": [
    {
     "name": "stdout",
     "output_type": "stream",
     "text": [
      "New-SelfSignedCertificate : CertEnroll::CX509Enrollment::_CreateRequest: Access denied. 0x80090010 (-2146893808 \n",
      "NTE_PERM)\n",
      "At line:3 char:9\n",
      "+ $cert = New-SelfSignedCertificate -DnsName \"PowershellSpanish\" -CertS ...\n",
      "+         ~~~~~~~~~~~~~~~~~~~~~~~~~~~~~~~~~~~~~~~~~~~~~~~~~~~~~~~~~~~~~\n",
      "    + CategoryInfo          : NotSpecified: (:) [New-SelfSignedCertificate], Exception\n",
      "    + FullyQualifiedErrorId : System.Exception,Microsoft.CertificateServices.Commands.NewSelfSignedCertificateCommand\n",
      " \n",
      "Export-PfxCertificate : Cannot bind argument to parameter 'Cert' because it is null.\n",
      "At line:7 char:29\n",
      "+ Export-PfxCertificate -cert $cert.PSPath -FilePath $env:USERPROFILE\\D ...\n",
      "+                             ~~~~~~~~~~~~\n",
      "    + CategoryInfo          : InvalidData: (:) [Export-PfxCertificate], ParameterBindingValidationException\n",
      "    + FullyQualifiedErrorId : ParameterArgumentValidationErrorNullNotAllowed,Microsoft.CertificateServices.Commands.Ex \n",
      "   portPfxCertificate\n",
      " \n",
      ". {\n",
      ">> #Generamos el certificado dentro del almacen de la computadora local para ello es necesario ejecutar con privilegios.\n",
      ">> $cert = New-SelfSignedCertificate -DnsName \"PowershellSpanish\" -CertStoreLocation \"Cert:\\LocalMachine\\My\" -KeyUsage 'KeyEncipherment','DataEncipherment','KeyAgreement' -Type DocumentEncryptionCert -NotAfter (Get-Date).AddYears(5)\n",
      ">> #Este password se usara para guardar el backup del certificado\n",
      ">> $pwdDelCert = ConvertTo-SecureString -String \"PassParaImportarCertificado\" -Force -AsPlainText\n",
      ">> #Este archivo es un backup del certificado contienen la llave privada.\n",
      ">> Export-PfxCertificate -cert $cert.PSPath -FilePath $env:USERPROFILE\\Desktop\\Backup.pfx -Password $pwdDelCert\n",
      ">> $cert\n",
      ">> \n",
      ">> }\n",
      ">> \n"
     ]
    }
   ],
   "source": [
    "#Generamos el certificado dentro del almacen de la computadora local para ello es necesario ejecutar con privilegios.\r\n",
    "$cert = New-SelfSignedCertificate -DnsName \"PowershellSpanish\" -CertStoreLocation \"Cert:\\LocalMachine\\My\" -KeyUsage 'KeyEncipherment','DataEncipherment','KeyAgreement' -Type DocumentEncryptionCert -NotAfter (Get-Date).AddYears(5)\r\n",
    "#Este password se usara para guardar el backup del certificado\r\n",
    "$pwdDelCert = ConvertTo-SecureString -String \"PassParaImportarCertificado\" -Force -AsPlainText\r\n",
    "#Este archivo es un backup del certificado contienen la llave privada.\r\n",
    "Export-PfxCertificate -cert $cert.PSPath -FilePath $env:USERPROFILE\\Desktop\\Backup.pfx -Password $pwdDelCert\r\n",
    "$cert\r\n"
   ]
  },
  {
   "cell_type": "markdown",
   "metadata": {},
   "source": [
    "Ahora vamos a cifrar el password se se le va asignar a los equipos recuerden evitar guardar el archivo con el password en texto plano, para ello usaremos el modulo **Microsoft.PowerShell.Security** con el cmdlet **Protect-CmsMessage**"
   ]
  },
  {
   "cell_type": "code",
   "execution_count": null,
   "metadata": {},
   "outputs": [],
   "source": [
    "#Archivo con el password cifrado\r\n",
    "\"qz&MEon7p8l#+1uLDJ\" | Protect-CmsMessage -To $CERT.Subject  -OutFile $env:USERPROFILE\\Desktop\\secret.txt"
   ]
  },
  {
   "cell_type": "code",
   "execution_count": null,
   "metadata": {},
   "outputs": [],
   "source": []
  },
  {
   "cell_type": "markdown",
   "metadata": {},
   "source": []
  },
  {
   "cell_type": "markdown",
   "metadata": {},
   "source": [
    "## Segundo apartado<a name=\"id2\"></a>\r\n",
    "Texto del segundo apartado\r\n"
   ]
  },
  {
   "cell_type": "markdown",
   "metadata": {},
   "source": [
    "## Segundo apartado<a name=\"id3\"></a>\r\n",
    "Texto del tercer apartado"
   ]
  }
 ],
 "metadata": {
  "kernelspec": {
   "display_name": "PowerShell",
   "language": "powershell",
   "name": "powershell"
  },
  "language_info": {
   "codemirror_mode": "shell",
   "file_extension": ".ps1",
   "mimetype": "text/x-sh",
   "name": "powershell"
  },
  "orig_nbformat": 4
 },
 "nbformat": 4,
 "nbformat_minor": 2
}